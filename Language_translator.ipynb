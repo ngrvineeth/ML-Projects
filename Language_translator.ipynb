{
  "nbformat": 4,
  "nbformat_minor": 0,
  "metadata": {
    "colab": {
      "name": "Language translator.ipynb",
      "provenance": [],
      "collapsed_sections": [],
      "authorship_tag": "ABX9TyNbsiYJp2IuKJ++ZGcRoJZJ",
      "include_colab_link": true
    },
    "kernelspec": {
      "name": "python3",
      "display_name": "Python 3"
    },
    "language_info": {
      "name": "python"
    }
  },
  "cells": [
    {
      "cell_type": "markdown",
      "metadata": {
        "id": "view-in-github",
        "colab_type": "text"
      },
      "source": [
        "<a href=\"https://colab.research.google.com/github/ngrvineeth/ML-Projects/blob/main/Language_translator.ipynb\" target=\"_parent\"><img src=\"https://colab.research.google.com/assets/colab-badge.svg\" alt=\"Open In Colab\"/></a>"
      ]
    },
    {
      "cell_type": "code",
      "metadata": {
        "colab": {
          "base_uri": "https://localhost:8080/"
        },
        "id": "mQS8GNEU56Ml",
        "outputId": "92221167-82e8-40f0-b0e6-0c7989f3615e"
      },
      "source": [
        "!pip install translate"
      ],
      "execution_count": 2,
      "outputs": [
        {
          "output_type": "stream",
          "name": "stdout",
          "text": [
            "Collecting translate\n",
            "  Downloading translate-3.6.1-py2.py3-none-any.whl (12 kB)\n",
            "Collecting libretranslatepy==2.1.1\n",
            "  Downloading libretranslatepy-2.1.1-py3-none-any.whl (3.2 kB)\n",
            "Requirement already satisfied: requests in /usr/local/lib/python3.7/dist-packages (from translate) (2.23.0)\n",
            "Requirement already satisfied: click in /usr/local/lib/python3.7/dist-packages (from translate) (7.1.2)\n",
            "Requirement already satisfied: lxml in /usr/local/lib/python3.7/dist-packages (from translate) (4.2.6)\n",
            "Requirement already satisfied: chardet<4,>=3.0.2 in /usr/local/lib/python3.7/dist-packages (from requests->translate) (3.0.4)\n",
            "Requirement already satisfied: idna<3,>=2.5 in /usr/local/lib/python3.7/dist-packages (from requests->translate) (2.10)\n",
            "Requirement already satisfied: urllib3!=1.25.0,!=1.25.1,<1.26,>=1.21.1 in /usr/local/lib/python3.7/dist-packages (from requests->translate) (1.24.3)\n",
            "Requirement already satisfied: certifi>=2017.4.17 in /usr/local/lib/python3.7/dist-packages (from requests->translate) (2021.10.8)\n",
            "Installing collected packages: libretranslatepy, translate\n",
            "Successfully installed libretranslatepy-2.1.1 translate-3.6.1\n"
          ]
        }
      ]
    },
    {
      "cell_type": "code",
      "metadata": {
        "colab": {
          "base_uri": "https://localhost:8080/"
        },
        "id": "zg4aCncg6GB7",
        "outputId": "53a2ca80-1ef7-4b57-e813-3ceb76ce2b7a"
      },
      "source": [
        "from translate import Translator\n",
        "translator=Translator(to_lang=\"Telugu\")\n",
        "translation=translator.translate(\"Hi my name is vineeth\")\n",
        "print(translation)"
      ],
      "execution_count": 3,
      "outputs": [
        {
          "output_type": "stream",
          "name": "stdout",
          "text": [
            "హాయ్ నా పేరు వినీత్\n"
          ]
        }
      ]
    },
    {
      "cell_type": "code",
      "metadata": {
        "id": "aCnbTgBs6kzu",
        "outputId": "448c698f-5fce-4f09-c716-e2103dccee4d",
        "colab": {
          "base_uri": "https://localhost:8080/"
        }
      },
      "source": [
        "translator=Translator(to_lang=\"Tamil\")\n",
        "translation=translator.translate(\"Hi my name is vineeth\")\n",
        "print(translation)"
      ],
      "execution_count": 4,
      "outputs": [
        {
          "output_type": "stream",
          "name": "stdout",
          "text": [
            "வணக்கம் என் பெயர் வினீத்\n"
          ]
        }
      ]
    },
    {
      "cell_type": "code",
      "source": [
        "translator=Translator(to_lang=\"Hindi\")\n",
        "translation=translator.translate(\"Hi my name is vineeth\")\n",
        "print(translation)"
      ],
      "metadata": {
        "id": "NMmvJ7mtfyRc",
        "outputId": "fb565491-76fd-4380-c265-0bfcdd56b319",
        "colab": {
          "base_uri": "https://localhost:8080/"
        }
      },
      "execution_count": 5,
      "outputs": [
        {
          "output_type": "stream",
          "name": "stdout",
          "text": [
            "हाय मेरा नाम विनीत है\n"
          ]
        }
      ]
    },
    {
      "cell_type": "code",
      "source": [
        "translator=Translator(to_lang=\"Malayalam\")\n",
        "translation=translator.translate(\"Hi my name is vineeth\")\n",
        "print(translation)"
      ],
      "metadata": {
        "id": "k-qJuE90f3Ce",
        "outputId": "1aa43e69-8329-4353-e7b1-e982215b85bc",
        "colab": {
          "base_uri": "https://localhost:8080/"
        }
      },
      "execution_count": 6,
      "outputs": [
        {
          "output_type": "stream",
          "name": "stdout",
          "text": [
            "ഹായ് എന്റെ പേര് വിനീത്\n"
          ]
        }
      ]
    },
    {
      "cell_type": "code",
      "source": [
        "translator=Translator(to_lang=\"Kannada\")\n",
        "translation=translator.translate(\"Hi my name is vineeth\")\n",
        "print(translation)"
      ],
      "metadata": {
        "id": "70zhFuShgAFG",
        "outputId": "348d6dcf-f655-4314-98ab-051537c5b185",
        "colab": {
          "base_uri": "https://localhost:8080/"
        }
      },
      "execution_count": 7,
      "outputs": [
        {
          "output_type": "stream",
          "name": "stdout",
          "text": [
            "ನಮಸ್ಕಾರ ನನ್ನ ಹೆಸರು ವಿನೀತ್\n"
          ]
        }
      ]
    },
    {
      "cell_type": "code",
      "source": [
        "translator=Translator(to_lang=\"Spanish\")\n",
        "translation=translator.translate(\"Hi my name is vineeth\")\n",
        "print(translation)"
      ],
      "metadata": {
        "id": "pb__OiJlgE3L",
        "outputId": "354d47b8-a1a1-4a80-bdc6-a423f7a5affa",
        "colab": {
          "base_uri": "https://localhost:8080/"
        }
      },
      "execution_count": 8,
      "outputs": [
        {
          "output_type": "stream",
          "name": "stdout",
          "text": [
            "Hola mi nombre es vineeth\n"
          ]
        }
      ]
    },
    {
      "cell_type": "code",
      "source": [
        "translator=Translator(to_lang=\"Japanese\")\n",
        "translation=translator.translate(\"Hi my name is vineeth\")\n",
        "print(translation)"
      ],
      "metadata": {
        "id": "gwX8va11gJfS",
        "outputId": "73861b9e-a8d6-4f72-e745-48882b748cdc",
        "colab": {
          "base_uri": "https://localhost:8080/"
        }
      },
      "execution_count": 9,
      "outputs": [
        {
          "output_type": "stream",
          "name": "stdout",
          "text": [
            "こんにちは私の名前はvineethです\n"
          ]
        }
      ]
    },
    {
      "cell_type": "code",
      "source": [
        "translator=Translator(to_lang=\"Chinese\")\n",
        "translation=translator.translate(\"Hi my name is vineeth\")\n",
        "print(translation)"
      ],
      "metadata": {
        "id": "v8i8rhfjgN3_",
        "outputId": "c2881ae7-3763-4f4c-ef03-2bd7378e45c4",
        "colab": {
          "base_uri": "https://localhost:8080/"
        }
      },
      "execution_count": 10,
      "outputs": [
        {
          "output_type": "stream",
          "name": "stdout",
          "text": [
            "嗨，我的名字是 vineeth\n"
          ]
        }
      ]
    }
  ]
}